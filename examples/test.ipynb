{
 "cells": [
  {
   "cell_type": "code",
   "execution_count": 1,
   "metadata": {},
   "outputs": [
    {
     "name": "stdout",
     "output_type": "stream",
     "text": [
      "20\n",
      "210\n",
      "19\n",
      "190\n",
      "18\n",
      "171\n",
      "17\n",
      "153\n",
      "16\n",
      "136\n",
      "15\n",
      "120\n",
      "14\n",
      "105\n",
      "13\n",
      "91\n",
      "12\n",
      "78\n",
      "11\n",
      "66\n",
      "10\n",
      "55\n",
      "9\n",
      "45\n",
      "8\n",
      "36\n",
      "7\n",
      "28\n",
      "6\n",
      "21\n",
      "5\n",
      "15\n",
      "4\n",
      "10\n",
      "3\n",
      "6\n",
      "2\n",
      "3\n",
      "1\n",
      "1\n"
     ]
    }
   ],
   "source": [
    "def main():\n",
    "    count = 20\n",
    "    while True:\n",
    "        if count == 0:\n",
    "            break\n",
    "        print(count)\n",
    "        x = 1\n",
    "        sum = 0\n",
    "        while True:\n",
    "            if x > count:\n",
    "                break\n",
    "            sum += x\n",
    "            x += 1\n",
    "        print(sum)\n",
    "        count -= 1\n",
    "\n",
    "main()\n"
   ]
  }
 ],
 "metadata": {
  "kernelspec": {
   "display_name": "Python 3",
   "language": "python",
   "name": "python3"
  },
  "language_info": {
   "codemirror_mode": {
    "name": "ipython",
    "version": 3
   },
   "file_extension": ".py",
   "mimetype": "text/x-python",
   "name": "python",
   "nbconvert_exporter": "python",
   "pygments_lexer": "ipython3",
   "version": "3.9.16"
  }
 },
 "nbformat": 4,
 "nbformat_minor": 2
}
